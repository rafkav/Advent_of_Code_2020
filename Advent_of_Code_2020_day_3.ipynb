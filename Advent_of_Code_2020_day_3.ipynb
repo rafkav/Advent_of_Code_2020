{
  "nbformat": 4,
  "nbformat_minor": 0,
  "metadata": {
    "colab": {
      "name": "Advent of Code 2020 day 3.ipynb",
      "provenance": [],
      "collapsed_sections": [],
      "mount_file_id": "1BLcbnCtYnF1Y9LZ9xRX7Fe0sqUD7wZkW",
      "authorship_tag": "ABX9TyPcq9pNxcXK/JUXatT5+mD0",
      "include_colab_link": true
    },
    "kernelspec": {
      "name": "python3",
      "display_name": "Python 3"
    }
  },
  "cells": [
    {
      "cell_type": "markdown",
      "metadata": {
        "id": "view-in-github",
        "colab_type": "text"
      },
      "source": [
        "<a href=\"https://colab.research.google.com/github/rafkav/Advent_of_Code_2020/blob/main/Advent_of_Code_2020_day_3.ipynb\" target=\"_parent\"><img src=\"https://colab.research.google.com/assets/colab-badge.svg\" alt=\"Open In Colab\"/></a>"
      ]
    },
    {
      "cell_type": "code",
      "metadata": {
        "colab": {
          "base_uri": "https://localhost:8080/"
        },
        "id": "t6VhllRK6wrQ",
        "outputId": "ad205fb8-ca59-4223-e9ae-fa4434a1d506"
      },
      "source": [
        "from google.colab import drive\n",
        "drive.mount('/content/drive')\n"
      ],
      "execution_count": 2,
      "outputs": [
        {
          "output_type": "stream",
          "text": [
            "Drive already mounted at /content/drive; to attempt to forcibly remount, call drive.mount(\"/content/drive\", force_remount=True).\n"
          ],
          "name": "stdout"
        }
      ]
    },
    {
      "cell_type": "code",
      "metadata": {
        "colab": {
          "base_uri": "https://localhost:8080/"
        },
        "id": "FB0h2807zWVh",
        "outputId": "be89fceb-5ec6-4713-d949-ee1c6c546115"
      },
      "source": [
        "#Right 3, down 1.\n",
        "count = 0\n",
        "line = 0\n",
        "y = -3\n",
        "ground = []\n",
        "with open('/content/drive/My Drive/Colab Notebooks/Advent of Code 2020/adventofcode_3_1.txt', 'r') as file:\n",
        "  for i in file:\n",
        "    line +=1\n",
        "    y += 3\n",
        "    if i[y%31] == '#':\n",
        "      count += 1\n",
        "print(count)"
      ],
      "execution_count": 56,
      "outputs": [
        {
          "output_type": "stream",
          "text": [
            "218\n"
          ],
          "name": "stdout"
        }
      ]
    },
    {
      "cell_type": "code",
      "metadata": {
        "colab": {
          "base_uri": "https://localhost:8080/"
        },
        "id": "umhRT9TClX4Z",
        "outputId": "cda1a336-1c25-4a01-a80c-fa9e88273971"
      },
      "source": [
        "#Right 1, down 1.\n",
        "count = 0\n",
        "line = 0\n",
        "y = -1\n",
        "ground = []\n",
        "with open('/content/drive/My Drive/Colab Notebooks/Advent of Code 2020/adventofcode_3_1.txt', 'r') as file:\n",
        "  for i in file:\n",
        "    line +=1\n",
        "    y += 1\n",
        "    if i[y%31] == '#':\n",
        "      count += 1\n",
        "print(count)"
      ],
      "execution_count": 57,
      "outputs": [
        {
          "output_type": "stream",
          "text": [
            "77\n"
          ],
          "name": "stdout"
        }
      ]
    },
    {
      "cell_type": "code",
      "metadata": {
        "colab": {
          "base_uri": "https://localhost:8080/"
        },
        "id": "1W3gOz1Vtad2",
        "outputId": "9b1041a5-adaa-42ba-a310-87010a90f0c0"
      },
      "source": [
        "#Right 5, down 1.\n",
        "count = 0\n",
        "line = 0\n",
        "y = -5\n",
        "ground = []\n",
        "with open('/content/drive/My Drive/Colab Notebooks/Advent of Code 2020/adventofcode_3_1.txt', 'r') as file:\n",
        "  for i in file:\n",
        "    line +=1\n",
        "    y += 5\n",
        "    if i[y%31] == '#':\n",
        "      count += 1\n",
        "print(count)"
      ],
      "execution_count": 58,
      "outputs": [
        {
          "output_type": "stream",
          "text": [
            "65\n"
          ],
          "name": "stdout"
        }
      ]
    },
    {
      "cell_type": "code",
      "metadata": {
        "colab": {
          "base_uri": "https://localhost:8080/"
        },
        "id": "uf-hc2rAtdnG",
        "outputId": "0ae36c98-4f69-4f73-cc57-42852c3e2b2f"
      },
      "source": [
        "#Right 7, down 1.\n",
        "count = 0\n",
        "line = 0\n",
        "y = -7\n",
        "ground = []\n",
        "with open('/content/drive/My Drive/Colab Notebooks/Advent of Code 2020/adventofcode_3_1.txt', 'r') as file:\n",
        "  for i in file:\n",
        "    line +=1\n",
        "    y += 7\n",
        "    if i[y%31] == '#':\n",
        "      count += 1\n",
        "print(count)"
      ],
      "execution_count": 59,
      "outputs": [
        {
          "output_type": "stream",
          "text": [
            "82\n"
          ],
          "name": "stdout"
        }
      ]
    },
    {
      "cell_type": "code",
      "metadata": {
        "colab": {
          "base_uri": "https://localhost:8080/"
        },
        "id": "JfQt96zwtgI2",
        "outputId": "d3cbcf39-69de-4974-efb6-667c3bd177ad"
      },
      "source": [
        "#Right 1, down 2.\n",
        "count = 0\n",
        "line = 0\n",
        "y = -1\n",
        "ground = []\n",
        "with open('/content/drive/My Drive/Colab Notebooks/Advent of Code 2020/adventofcode_3_1.txt', 'r') as file:\n",
        "  for i in file:\n",
        "    line +=1\n",
        "    if (line-1)%2 == 0:\n",
        "      y += 1\n",
        "      if i[y%31] == '#':\n",
        "        count += 1\n",
        "print(count)"
      ],
      "execution_count": 63,
      "outputs": [
        {
          "output_type": "stream",
          "text": [
            "43\n"
          ],
          "name": "stdout"
        }
      ]
    },
    {
      "cell_type": "code",
      "metadata": {
        "colab": {
          "base_uri": "https://localhost:8080/"
        },
        "id": "EuK8x9Ckvare",
        "outputId": "915a88c6-5f78-4b41-869a-cd3e4b252d7f"
      },
      "source": [
        "print(218*77*65*82*43)"
      ],
      "execution_count": 64,
      "outputs": [
        {
          "output_type": "stream",
          "text": [
            "3847183340\n"
          ],
          "name": "stdout"
        }
      ]
    },
    {
      "cell_type": "code",
      "metadata": {
        "id": "C_2IbGL3vhee"
      },
      "source": [
        ""
      ],
      "execution_count": null,
      "outputs": []
    }
  ]
}