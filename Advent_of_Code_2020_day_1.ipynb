{
  "nbformat": 4,
  "nbformat_minor": 0,
  "metadata": {
    "colab": {
      "name": "Advent of Code 2020 day 1.ipynb",
      "provenance": [],
      "collapsed_sections": [],
      "mount_file_id": "1IlqjnsNB4ObyrbppMdt3iVGTtSYpNJ9d",
      "authorship_tag": "ABX9TyP+42/wsoa8rWRcCG3XiQmN",
      "include_colab_link": true
    },
    "kernelspec": {
      "name": "python3",
      "display_name": "Python 3"
    }
  },
  "cells": [
    {
      "cell_type": "markdown",
      "metadata": {
        "id": "view-in-github",
        "colab_type": "text"
      },
      "source": [
        "<a href=\"https://colab.research.google.com/github/rafkav/Advent_of_Code_2020/blob/main/Advent_of_Code_2020_day_1.ipynb\" target=\"_parent\"><img src=\"https://colab.research.google.com/assets/colab-badge.svg\" alt=\"Open In Colab\"/></a>"
      ]
    },
    {
      "cell_type": "code",
      "metadata": {
        "colab": {
          "base_uri": "https://localhost:8080/"
        },
        "id": "zz_meSeWEbk4",
        "outputId": "64cdde1d-4e6d-4231-df4b-c895f91d5bcc"
      },
      "source": [
        "from google.colab import drive\n",
        "drive.mount('/content/drive')"
      ],
      "execution_count": 6,
      "outputs": [
        {
          "output_type": "stream",
          "text": [
            "Drive already mounted at /content/drive; to attempt to forcibly remount, call drive.mount(\"/content/drive\", force_remount=True).\n"
          ],
          "name": "stdout"
        }
      ]
    },
    {
      "cell_type": "code",
      "metadata": {
        "colab": {
          "base_uri": "https://localhost:8080/"
        },
        "id": "ao0zivVbzuXf",
        "outputId": "81ae1deb-2ab4-4fda-9ac8-0b53c79e1f35"
      },
      "source": [
        "a=b=0\n",
        "with open('/content/drive/My Drive/Colab Notebooks/Advent of Code 2020/adventofcode_1_1.txt', 'r') as file:\n",
        "  for i in file:\n",
        "    with open('/content/drive/My Drive/Colab Notebooks/Advent of Code 2020/adventofcode_1_1.txt', 'r') as file:\n",
        "      for j in file:\n",
        "        a = int(i.strip())\n",
        "        b = int(j.strip())\n",
        "        if a + b == 2020:\n",
        "          print(a* b)"
      ],
      "execution_count": 222,
      "outputs": [
        {
          "output_type": "stream",
          "text": [
            "980499\n",
            "980499\n"
          ],
          "name": "stdout"
        }
      ]
    },
    {
      "cell_type": "code",
      "metadata": {
        "colab": {
          "base_uri": "https://localhost:8080/"
        },
        "id": "qMj59hMHALCA",
        "outputId": "fda61419-9fff-4818-8d44-a1e20ed60a1c"
      },
      "source": [
        "a=b=0\n",
        "with open('/content/drive/My Drive/Colab Notebooks/Advent of Code 2020/adventofcode_1_1.txt', 'r') as file:\n",
        "  for i in file:\n",
        "    with open('/content/drive/My Drive/Colab Notebooks/Advent of Code 2020/adventofcode_1_1.txt', 'r') as file:\n",
        "      for j in file:\n",
        "        with open('/content/drive/My Drive/Colab Notebooks/Advent of Code 2020/adventofcode_1_1.txt', 'r') as file:\n",
        "          for k in file:\n",
        "            a = int(i.strip())\n",
        "            b = int(j.strip())\n",
        "            c = int(k.strip())\n",
        "            if a + b + c == 2020:\n",
        "              print(a * b * c)"
      ],
      "execution_count": 223,
      "outputs": [
        {
          "output_type": "stream",
          "text": [
            "200637446\n",
            "200637446\n",
            "200637446\n",
            "200637446\n",
            "200637446\n",
            "200637446\n"
          ],
          "name": "stdout"
        }
      ]
    },
    {
      "cell_type": "code",
      "metadata": {
        "id": "-o0qC2sg99VO"
      },
      "source": [
        ""
      ],
      "execution_count": null,
      "outputs": []
    }
  ]
}