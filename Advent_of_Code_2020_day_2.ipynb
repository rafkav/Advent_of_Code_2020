{
  "nbformat": 4,
  "nbformat_minor": 0,
  "metadata": {
    "colab": {
      "name": "Advent of Code 2020 day 2.ipynb",
      "provenance": [],
      "collapsed_sections": [],
      "mount_file_id": "1gkehYOChdHQkSQOgVIpybm386jV6sKI3",
      "authorship_tag": "ABX9TyMCjJjnNjhWkf2GK+s7G2ke",
      "include_colab_link": true
    },
    "kernelspec": {
      "name": "python3",
      "display_name": "Python 3"
    }
  },
  "cells": [
    {
      "cell_type": "markdown",
      "metadata": {
        "id": "view-in-github",
        "colab_type": "text"
      },
      "source": [
        "<a href=\"https://colab.research.google.com/github/rafkav/Advent_of_Code_2020/blob/main/Advent_of_Code_2020_day_2.ipynb\" target=\"_parent\"><img src=\"https://colab.research.google.com/assets/colab-badge.svg\" alt=\"Open In Colab\"/></a>"
      ]
    },
    {
      "cell_type": "code",
      "metadata": {
        "colab": {
          "base_uri": "https://localhost:8080/"
        },
        "id": "t6VhllRK6wrQ",
        "outputId": "fcbb4e08-cef1-46c5-b15d-0b066e3d1ff6"
      },
      "source": [
        "from google.colab import drive\n",
        "drive.mount('/content/drive')\n"
      ],
      "execution_count": null,
      "outputs": [
        {
          "output_type": "stream",
          "text": [
            "Drive already mounted at /content/drive; to attempt to forcibly remount, call drive.mount(\"/content/drive\", force_remount=True).\n"
          ],
          "name": "stdout"
        }
      ]
    },
    {
      "cell_type": "code",
      "metadata": {
        "colab": {
          "base_uri": "https://localhost:8080/"
        },
        "id": "FB0h2807zWVh",
        "outputId": "925a07c1-a9b7-4038-a7ce-5f52db60a441"
      },
      "source": [
        "count = 0\n",
        "with open('/content/drive/My Drive/Colab Notebooks/Advent of Code 2020/adventofcode_2_1.txt', 'r') as file:\n",
        "  for i in file:\n",
        "    rule = i.split(':')[0]\n",
        "    password = i.split(':')[1]\n",
        "    min = int((i.split(':')[0]).split('-')[0])\n",
        "    max = int(((i.split(':')[0]).split('-')[1]).split(' ')[0])\n",
        "    letter = ((i.split(':')[0]).split('-')[1]).split(' ')[1]\n",
        "    test = password.count(letter)\n",
        "    if ((test < min) or (test>max)):\n",
        "      pass\n",
        "    else:\n",
        "      count += 1\n",
        "print(count)"
      ],
      "execution_count": null,
      "outputs": [
        {
          "output_type": "stream",
          "text": [
            "542\n"
          ],
          "name": "stdout"
        }
      ]
    }
  ]
}